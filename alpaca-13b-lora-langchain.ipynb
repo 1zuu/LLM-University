{
 "cells": [
  {
   "cell_type": "code",
   "execution_count": 4,
   "metadata": {},
   "outputs": [
    {
     "name": "stdout",
     "output_type": "stream",
     "text": [
      "Use this cell to install ctransformers\n"
     ]
    }
   ],
   "source": [
    "'''\n",
    "# Base ctransformers with no GPU acceleration\n",
    "pip install ctransformers>=0.2.24\n",
    "\n",
    "# Or with CUDA GPU acceleration\n",
    "pip install ctransformers[cuda]>=0.2.24\n",
    "\n",
    "# Or with ROCm GPU acceleration\n",
    "CT_HIPBLAS=1 pip install ctransformers>=0.2.24 --no-binary ctransformers\n",
    "\n",
    "# Or with Metal GPU acceleration for macOS systems\n",
    "CT_METAL=1 pip install ctransformers>=0.2.24 --no-binary ctransformers\n",
    "'''\n",
    "\n",
    "print(\"Use this cell to install ctransformers\")"
   ]
  },
  {
   "cell_type": "code",
   "execution_count": 15,
   "metadata": {},
   "outputs": [],
   "source": [
    "from transformers import pipeline\n",
    "import ctransformers as OrgCTransformers\n",
    "from langchain import PromptTemplate, LLMChain\n",
    "from langchain.llms import CTransformers, HuggingFacePipeline"
   ]
  },
  {
   "cell_type": "code",
   "execution_count": 20,
   "metadata": {},
   "outputs": [
    {
     "data": {
      "application/vnd.jupyter.widget-view+json": {
       "model_id": "7d90889db0274f8a84b2d3527f719c92",
       "version_major": 2,
       "version_minor": 0
      },
      "text/plain": [
       "Fetching 1 files:   0%|          | 0/1 [00:00<?, ?it/s]"
      ]
     },
     "metadata": {},
     "output_type": "display_data"
    },
    {
     "data": {
      "application/vnd.jupyter.widget-view+json": {
       "model_id": "fa5bf7215cb04d91bc5461212465bb95",
       "version_major": 2,
       "version_minor": 0
      },
      "text/plain": [
       "Fetching 1 files:   0%|          | 0/1 [00:00<?, ?it/s]"
      ]
     },
     "metadata": {},
     "output_type": "display_data"
    },
    {
     "data": {
      "application/vnd.jupyter.widget-view+json": {
       "model_id": "75099f7256d64bbb92cc9d33b8b77879",
       "version_major": 2,
       "version_minor": 0
      },
      "text/plain": [
       "Fetching 1 files:   0%|          | 0/1 [00:00<?, ?it/s]"
      ]
     },
     "metadata": {},
     "output_type": "display_data"
    },
    {
     "data": {
      "application/vnd.jupyter.widget-view+json": {
       "model_id": "764327eba5f44d2b815f5e7b62cdc022",
       "version_major": 2,
       "version_minor": 0
      },
      "text/plain": [
       "Fetching 1 files:   0%|          | 0/1 [00:00<?, ?it/s]"
      ]
     },
     "metadata": {},
     "output_type": "display_data"
    }
   ],
   "source": [
    "###### using langchain\n",
    "llm_lc = CTransformers(\n",
    "                    model = \"TheBloke/AlpacaCielo2-7B-8K-GGUF\",\n",
    "                    model_file=\"alpacacielo2-7b-8k.Q2_K.gguf\",\n",
    "                    model_type=\"llama\",\n",
    "                    temperature = 0.5\n",
    "                    )\n",
    "\n",
    "##### using ctransformers\n",
    "llm_ct = OrgCTransformers.AutoModelForCausalLM.from_pretrained(\n",
    "                                                            \"TheBloke/AlpacaCielo2-7B-8K-GGUF\", \n",
    "                                                            model_file=\"alpacacielo2-7b-8k.Q2_K.gguf\", # chnage GGUF config here\n",
    "                                                            model_type=\"llama\"\n",
    "                                                            )\n",
    "\n",
    "# in order to use this with langchain ordinary transformers should wrap with HuggingFacePipeline. but ctransformers already has this wrapper"
   ]
  },
  {
   "cell_type": "code",
   "execution_count": 21,
   "metadata": {},
   "outputs": [],
   "source": [
    "template = \"\"\"Below is an instruction that describes a task. Write a response that appropriately completes the request.\n",
    "\n",
    "### Instruction: \n",
    "{instruction}\n",
    "\n",
    "Answer:\"\"\"\n",
    "\n",
    "prompt = PromptTemplate(template=template, input_variables=[\"instruction\"])"
   ]
  },
  {
   "cell_type": "markdown",
   "metadata": {},
   "source": [
    "## We can prompt this in 2 methods.\n",
    "        1. Direct prompting without variables\n",
    "        2. PromptTemplating with langchain"
   ]
  },
  {
   "cell_type": "code",
   "execution_count": 24,
   "metadata": {},
   "outputs": [
    {
     "name": "stdout",
     "output_type": "stream",
     "text": [
      " The current capital of England is London. Википедия сообщает, что город был основан в 15-м веке году народами германского происхождения — так называемых Angles и Сассексами (Saxons). В 44-м веке году был завоеван и разрушен римлянами. Название «Лондон» происходит от староанглийского слова «Тейлоун», что означает «town of Roman Fort» или, на vernacular — «район укрепленной базы». В 19-м веке город пережил большие перемены: сформировались политическое устройство и администрация, развитие промышленности, торговли и культуры. Лондон остаётся одним из важнейших экономических и культурных центров мира.\n",
      "\n",
      "Согласно Википедии, в 19-м веке город пережил большие перемены: сформировались политическое устройство и администрация, развитие промышленности, торговли и культуры. Также отмечается что, к 20\n"
     ]
    }
   ],
   "source": [
    "# method 01\n",
    "print(llm_ct(\"What is the capital of England?\"))"
   ]
  },
  {
   "cell_type": "code",
   "execution_count": 25,
   "metadata": {},
   "outputs": [
    {
     "name": "stdout",
     "output_type": "stream",
     "text": [
      " The current capital of England is London. It was notified by a Royal Assent from 9 September 19901 when Queen Victoria chose to move her primary royal residence from Osborne House on the Isle of Wight to Buckingham Palace.\n"
     ]
    }
   ],
   "source": [
    "# method 02\n",
    "llm_chain = LLMChain(\n",
    "                prompt=prompt, \n",
    "                llm=llm_lc\n",
    "                )\n",
    "question = \"What is the capital of England?\"\n",
    "print(llm_chain.run(question))"
   ]
  },
  {
   "cell_type": "code",
   "execution_count": null,
   "metadata": {},
   "outputs": [],
   "source": []
  },
  {
   "cell_type": "code",
   "execution_count": null,
   "metadata": {},
   "outputs": [],
   "source": []
  }
 ],
 "metadata": {
  "kernelspec": {
   "display_name": "Python 3",
   "language": "python",
   "name": "python3"
  },
  "language_info": {
   "codemirror_mode": {
    "name": "ipython",
    "version": 3
   },
   "file_extension": ".py",
   "mimetype": "text/x-python",
   "name": "python",
   "nbconvert_exporter": "python",
   "pygments_lexer": "ipython3",
   "version": "3.10.13"
  },
  "orig_nbformat": 4
 },
 "nbformat": 4,
 "nbformat_minor": 2
}
